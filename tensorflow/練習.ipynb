{
 "cells": [
  {
   "cell_type": "code",
   "execution_count": 34,
   "id": "0e5f696e-012b-45a4-8217-59321e8d77eb",
   "metadata": {},
   "outputs": [
    {
     "name": "stdout",
     "output_type": "stream",
     "text": [
      "(10000, 784)\n",
      "Epoch 1/20\n",
      "100/100 [==============================] - 1s 4ms/step - loss: 0.0897 - accuracy: 0.1629\n",
      "Epoch 2/20\n",
      "100/100 [==============================] - 0s 3ms/step - loss: 0.0879 - accuracy: 0.2913\n",
      "Epoch 3/20\n",
      "100/100 [==============================] - 0s 3ms/step - loss: 0.0856 - accuracy: 0.3553\n",
      "Epoch 4/20\n",
      "100/100 [==============================] - 0s 3ms/step - loss: 0.0821 - accuracy: 0.4055\n",
      "Epoch 5/20\n",
      "100/100 [==============================] - 0s 3ms/step - loss: 0.0769 - accuracy: 0.4833\n",
      "Epoch 6/20\n",
      "100/100 [==============================] - 0s 4ms/step - loss: 0.0698 - accuracy: 0.5457\n",
      "Epoch 7/20\n",
      "100/100 [==============================] - 0s 3ms/step - loss: 0.0611 - accuracy: 0.6102\n",
      "Epoch 8/20\n",
      "100/100 [==============================] - 0s 4ms/step - loss: 0.0524 - accuracy: 0.6792\n",
      "Epoch 9/20\n",
      "100/100 [==============================] - 0s 3ms/step - loss: 0.0450 - accuracy: 0.7433\n",
      "Epoch 10/20\n",
      "100/100 [==============================] - 0s 3ms/step - loss: 0.0390 - accuracy: 0.7819\n",
      "Epoch 11/20\n",
      "100/100 [==============================] - 0s 3ms/step - loss: 0.0341 - accuracy: 0.8169\n",
      "Epoch 12/20\n",
      "100/100 [==============================] - 0s 3ms/step - loss: 0.0300 - accuracy: 0.8382\n",
      "Epoch 13/20\n",
      "100/100 [==============================] - 0s 3ms/step - loss: 0.0269 - accuracy: 0.8567\n",
      "Epoch 14/20\n",
      "100/100 [==============================] - 0s 4ms/step - loss: 0.0244 - accuracy: 0.8648\n",
      "Epoch 15/20\n",
      "100/100 [==============================] - 0s 4ms/step - loss: 0.0225 - accuracy: 0.8743\n",
      "Epoch 16/20\n",
      "100/100 [==============================] - 0s 3ms/step - loss: 0.0210 - accuracy: 0.8816\n",
      "Epoch 17/20\n",
      "100/100 [==============================] - 0s 3ms/step - loss: 0.0198 - accuracy: 0.8875\n",
      "Epoch 18/20\n",
      "100/100 [==============================] - 0s 4ms/step - loss: 0.0188 - accuracy: 0.8902\n",
      "Epoch 19/20\n",
      "100/100 [==============================] - 0s 4ms/step - loss: 0.0180 - accuracy: 0.8948\n",
      "Epoch 20/20\n",
      "100/100 [==============================] - 0s 3ms/step - loss: 0.0173 - accuracy: 0.9003\n",
      "313/313 [==============================] - 1s 1ms/step - loss: 0.0179 - accuracy: 0.8931\n"
     ]
    },
    {
     "data": {
      "text/plain": [
       "[0.017875464633107185, 0.8931000232696533]"
      ]
     },
     "execution_count": 34,
     "metadata": {},
     "output_type": "execute_result"
    }
   ],
   "source": [
    "from tensorflow.keras import losses,optimizers\n",
    "from tensorflow.keras.layers import Flatten,Dense,Dropout\n",
    "import tensorflow as tf\n",
    "import numpy as np\n",
    "from keras.datasets import mnist\n",
    "from keras.utils import np_utils\n",
    "def load_data():\n",
    "    (x_train,y_train),(x_test,y_test)=mnist.load_data()\n",
    "    num=10000\n",
    "    x_train= x_train[0:num]\n",
    "    y_train=y_train[0:num]\n",
    "    x_train=x_train.reshape(num,28*28)\n",
    "    x_test=x_test.reshape(x_test.shape[0],28*28)\n",
    "\n",
    "    y_train=np_utils.to_categorical(y_train,10)\n",
    "    y_test=np_utils.to_categorical(y_test,10)\n",
    "    x_train=x_train/255\n",
    "    x_test=x_test/255\n",
    "    print(x_train.shape)\n",
    "    return (x_train,y_train),(x_test,y_test)\n",
    "(x_train,y_train),(x_test,y_test)=load_data()\n",
    "model=tf.keras.Sequential()\n",
    "model.add(Dense(input_dim=28*28,units=256,activation='relu'))\n",
    "model.add(Dense(units=588,activation='relu'))\n",
    "model.add(Dense(units=588,activation='relu'))\n",
    "model.add(Dense(units=10,activation='softmax'))\n",
    "model.compile(loss='mse',optimizer=tf.keras.optimizers.SGD(lr=0.1),metrics=['accuracy'])\n",
    "model.fit(x_train,y_train,batch_size=100,epochs=20)\n",
    "model.evaluate(x_test,y_test)"
   ]
  },
  {
   "cell_type": "code",
   "execution_count": null,
   "id": "8ae00d1b-f876-49e1-b902-cf8086e2c3d2",
   "metadata": {},
   "outputs": [],
   "source": []
  }
 ],
 "metadata": {
  "kernelspec": {
   "display_name": "Python 3 (ipykernel)",
   "language": "python",
   "name": "python3"
  },
  "language_info": {
   "codemirror_mode": {
    "name": "ipython",
    "version": 3
   },
   "file_extension": ".py",
   "mimetype": "text/x-python",
   "name": "python",
   "nbconvert_exporter": "python",
   "pygments_lexer": "ipython3",
   "version": "3.9.13"
  }
 },
 "nbformat": 4,
 "nbformat_minor": 5
}
