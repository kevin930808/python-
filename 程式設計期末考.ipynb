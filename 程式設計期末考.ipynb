{
 "cells": [
  {
   "cell_type": "code",
   "execution_count": 58,
   "id": "e5cc67f8-8746-4ce9-ba41-4458462ea64d",
   "metadata": {},
   "outputs": [
    {
     "name": "stdout",
     "output_type": "stream",
     "text": [
      "[5, 1, 4, 4, 5, 1, 2, 4, 4, 3, 2, 1, 5, 4, 3, 1, 2, 3, 1, 4, 2, 5, 3, 4, 4, 3, 3, 4, 2, 3, 3, 2, 4, 2, 4, 5, 4, 1, 5, 1, 2, 2, 2, 3, 5, 3, 2, 3, 5, 4, 4, 4, 1, 5, 3, 5, 2, 2, 4, 2, 1, 1, 4, 3, 5, 1, 5, 1, 2, 4, 5, 3, 5, 2, 1, 1, 4, 2, 2, 3, 4, 4, 4, 2, 3, 2, 5, 5, 2, 1, 3, 4, 3, 2, 2, 2, 4, 3, 3, 4, 2, 1, 5, 1, 3, 3, 2, 1, 3, 4, 4, 5, 2, 4, 4, 2, 5, 3, 5, 4, 5, 4, 1, 2, 4, 4, 4, 2, 4, 5, 5, 3, 5, 4, 4, 2, 5, 4, 1, 4, 1, 1, 4, 5, 1, 1, 3, 1, 2, 1, 5, 4, 4, 2, 4, 4, 5, 4, 3, 3, 4, 4, 3, 5, 5, 2, 2, 3, 5, 1, 2, 5, 5, 4, 1, 1, 3, 4, 2, 3, 1, 1, 5, 5, 1, 3, 2, 4, 2, 3, 5, 4, 2, 3, 2, 1, 5, 2, 4, 2, 1, 3, 4, 5, 4, 4, 5, 2, 3, 5, 3, 1, 1, 2, 4, 5, 4, 4, 2, 1, 4, 1, 1, 3, 3, 3, 4, 4, 2, 3]\n",
      "[4, 2, 1, 5, 1]\n",
      "count of 1 is 39\n",
      "count of 2 is 47\n",
      "count of 3 is 42\n",
      "count of 4 is 61\n",
      "count of 5 is 41\n",
      "708\n",
      "3.08\n",
      "1.36\n",
      "[[5, 1, 4, 4, 5, 1, 2, 4, 4, 3], [2, 1, 5, 4, 3, 1, 2, 3, 1, 4], [2, 5, 3, 4, 4, 3, 3, 4, 2, 3], [3, 2, 4, 2, 4, 5, 4, 1, 5, 1], [2, 2, 2, 3, 5, 3, 2, 3, 5, 4], [4, 4, 1, 5, 3, 5, 2, 2, 4, 2], [1, 1, 4, 3, 5, 1, 5, 1, 2, 4], [5, 3, 5, 2, 1, 1, 4, 2, 2, 3], [4, 4, 4, 2, 3, 2, 5, 5, 2, 1], [3, 4, 3, 2, 2, 2, 4, 3, 3, 4], [2, 1, 5, 1, 3, 3, 2, 1, 3, 4], [4, 5, 2, 4, 4, 2, 5, 3, 5, 4], [5, 4, 1, 2, 4, 4, 4, 2, 4, 5], [5, 3, 5, 4, 4, 2, 5, 4, 1, 4], [1, 1, 4, 5, 1, 1, 3, 1, 2, 1], [5, 4, 4, 2, 4, 4, 5, 4, 3, 3], [4, 4, 3, 5, 5, 2, 2, 3, 5, 1], [2, 5, 5, 4, 1, 1, 3, 4, 2, 3], [1, 1, 5, 5, 1, 3, 2, 4, 2, 3], [5, 4, 2, 3, 2, 1, 5, 2, 4, 2], [1, 3, 4, 5, 4, 4, 5, 2, 3, 5], [3, 1, 1, 2, 4, 5, 4, 4, 2, 1], [4, 1, 1, 3, 3, 3, 4, 4, 2, 3]]\n",
      "5 4\n",
      "[[5 1 4 4 5 1 2 4 4 3]\n",
      " [2 1 5 4 3 1 2 3 1 4]\n",
      " [2 5 3 4 4 3 3 4 2 3]\n",
      " [3 2 4 2 4 5 4 1 5 1]\n",
      " [2 2 2 3 5 3 2 3 5 4]\n",
      " [4 4 1 5 3 5 2 2 4 2]\n",
      " [1 1 4 3 5 1 5 1 2 4]\n",
      " [5 3 5 2 1 1 4 2 2 3]\n",
      " [4 4 4 2 3 2 5 5 2 1]\n",
      " [3 4 3 2 2 2 4 3 3 4]\n",
      " [2 1 5 1 3 3 2 1 3 4]\n",
      " [4 5 2 4 4 2 5 3 5 4]\n",
      " [5 4 1 2 4 4 4 2 4 5]\n",
      " [5 3 5 4 4 2 5 4 1 4]\n",
      " [1 1 4 5 1 1 3 1 2 1]\n",
      " [5 4 4 2 4 4 5 4 3 3]\n",
      " [4 4 3 5 5 2 2 3 5 1]\n",
      " [2 5 5 4 1 1 3 4 2 3]\n",
      " [1 1 5 5 1 3 2 4 2 3]\n",
      " [5 4 2 3 2 1 5 2 4 2]\n",
      " [1 3 4 5 4 4 5 2 3 5]\n",
      " [3 1 1 2 4 5 4 4 2 1]\n",
      " [4 1 1 3 3 3 4 4 2 3]]\n",
      "[33, 26, 33, 31, 31, 32, 27, 28, 32, 30, 25, 38, 35, 37, 20, 38, 34, 30, 27, 30, 36, 27, 28]\n",
      "[33 26 33 31 31 32 27 28 32 30 25 38 35 37 20 38 34 30 27 30 36 27 28]\n",
      "[73, 64, 77, 76, 75, 59, 82, 66, 68, 68]\n",
      "[73 64 77 76 75 59 82 66 68 68]\n",
      "(23, 10)\n",
      "(23, 10)\n",
      "3.0782608695652174\n",
      "708\n",
      "1.361890157653064\n"
     ]
    }
   ],
   "source": [
    "import random as rd\n",
    "import numpy as np\n",
    "rd.seed(10)\n",
    "M=[]\n",
    "for i in range(230):\n",
    "    x=rd.randint(1,5)\n",
    "    M.append(x)\n",
    "print(M)\n",
    "print(M[99:104])\n",
    "def count(list):\n",
    "    for i in range(1,6):\n",
    "        print('count of',i,'is',list.count(i))\n",
    "count(M)\n",
    "def listSum(x):\n",
    "    return sum(x)\n",
    "def listMean(x):\n",
    "    return round(listSum(x) / len(x),2)\n",
    "def listDev(x):\n",
    "    mean_error=0\n",
    "    n=len(x)\n",
    "    for i in range(len(x)):\n",
    "        mean_error += (x[i]-listMean(x))**2\n",
    "    std=(mean_error/(n-1))**0.5\n",
    "    return round(std,2)\n",
    "print(listSum(M))\n",
    "print(listMean(M))\n",
    "print(listDev(M))\n",
    "def list_N(x):\n",
    "    row=23\n",
    "    column=10\n",
    "    start=0\n",
    "    end=10\n",
    "    N=[]\n",
    "    for i in range(row):\n",
    "        N.append(x[start:end])\n",
    "        start+=column\n",
    "        end+=column\n",
    "    return N\n",
    "print(list_N(M))\n",
    "print(list_N(M)[0][0],list_N(M)[22][0])\n",
    "newm=np.asarray(M).reshape(23,10)\n",
    "print(newm)\n",
    "def rowSum(x):\n",
    "    R=[]\n",
    "    for i in list_N(x):\n",
    "        R.append(sum(i))\n",
    "    return R\n",
    "print(rowSum(M))\n",
    "print(np.sum(newm,axis=1))      \n",
    "def colSum(x):\n",
    "    C=[]\n",
    "    M=list_N(x)\n",
    "    sum=0\n",
    "    for i in range(10):\n",
    "        for j in range(23):\n",
    "            sum+= M[j][i]\n",
    "        C.append(sum)\n",
    "        sum=\n",
    "    return C\n",
    "print(colSum(M))\n",
    "print(np.sum(newm,axis=0))\n",
    "print(newm.shape)\n",
    "print(np.array(list_N(M)).shape)\n",
    "print(np.average(M))\n",
    "print(np.sum(M))\n",
    "print(np.std(M))    "
   ]
  },
  {
   "cell_type": "code",
   "execution_count": 56,
   "id": "8327f115-226a-4d76-b950-59242ba8f47d",
   "metadata": {},
   "outputs": [
    {
     "name": "stdout",
     "output_type": "stream",
     "text": [
      "2\n"
     ]
    }
   ],
   "source": [
    "a=[1,1,2,3,4]\n",
    "print(a.count(1))"
   ]
  },
  {
   "cell_type": "code",
   "execution_count": 66,
   "id": "dcc15817-809f-4e42-b7a5-aa298186f865",
   "metadata": {},
   "outputs": [
    {
     "name": "stdout",
     "output_type": "stream",
     "text": [
      "[73, 64, 77, 76, 75, 59, 82, 66, 68, 68]\n"
     ]
    }
   ],
   "source": [
    "import random as rd\n",
    "import numpy as np\n",
    "rd.seed(10)\n",
    "M=[]\n",
    "for i in range(230):\n",
    "    x=rd.randint(1,5)\n",
    "    M.append(x)\n",
    "r=[]\n",
    "x=0\n",
    "for j in range(10): \n",
    "    for i in range(j,230,10):\n",
    "        x+=M[i]\n",
    "    r.append(x)\n",
    "    x=0\n",
    "print(r)\n",
    "    \n"
   ]
  },
  {
   "cell_type": "code",
   "execution_count": null,
   "id": "ae1a36c4-6ca9-4265-8a9d-3c3416b3ac3f",
   "metadata": {},
   "outputs": [],
   "source": []
  },
  {
   "cell_type": "code",
   "execution_count": null,
   "id": "9099b671-757f-4832-b79f-f972d2ed0a6e",
   "metadata": {},
   "outputs": [],
   "source": []
  }
 ],
 "metadata": {
  "kernelspec": {
   "display_name": "Python 3 (ipykernel)",
   "language": "python",
   "name": "python3"
  },
  "language_info": {
   "codemirror_mode": {
    "name": "ipython",
    "version": 3
   },
   "file_extension": ".py",
   "mimetype": "text/x-python",
   "name": "python",
   "nbconvert_exporter": "python",
   "pygments_lexer": "ipython3",
   "version": "3.9.12"
  }
 },
 "nbformat": 4,
 "nbformat_minor": 5
}
