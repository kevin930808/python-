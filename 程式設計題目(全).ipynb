{
 "cells": [
  {
   "cell_type": "code",
   "execution_count": 6,
   "id": "791c228a-cb26-40ac-8fa5-efde92f7b0fa",
   "metadata": {},
   "outputs": [
    {
     "name": "stdout",
     "output_type": "stream",
     "text": [
      "GMT= 7 hours 42 minutes 2 seconds\n"
     ]
    }
   ],
   "source": [
    "##GMT時間\n",
    "total = 411421322\n",
    "hours = total //3600\n",
    "minutes = (total - hours *3600) // 60\n",
    "seconds = total - hours * 3600 - minutes *60\n",
    "hours = hours %24%12\n",
    "print('GMT=',hours,'hours',minutes,'minutes',seconds,'seconds')"
   ]
  },
  {
   "cell_type": "code",
   "execution_count": 7,
   "id": "1ce71fd3-245c-45ec-b30f-2a3a58edfc3f",
   "metadata": {},
   "outputs": [
    {
     "name": "stdout",
     "output_type": "stream",
     "text": [
      "322 Cents =\n",
      " 3 Dollar\n",
      " 0 Quarter\n",
      " 2 Dime\n",
      " 0 Nickel\n",
      " 2 Penny\n",
      "\n"
     ]
    }
   ],
   "source": [
    "##錢幣\n",
    "y = 322\n",
    "def main():\n",
    "    Dollar = y//100\n",
    "    Quarter = (y -Dollar * 100) //25\n",
    "    Dime = (y -Dollar * 100 -Quarter*25 ) //10\n",
    "    Nickel =(y -Dollar * 100 -Quarter*25 -Dime*10) //5\n",
    "    Penny = (y -Dollar * 100 -Quarter*25 -Dime*10-Nickel*5)\n",
    "    print(y,'Cents =\\n',Dollar,'Dollar\\n',Quarter,'Quarter\\n',Dime,'Dime\\n',Nickel,'Nickel\\n',Penny,'Penny\\n')\n",
    "main()\n"
   ]
  },
  {
   "cell_type": "code",
   "execution_count": 8,
   "id": "72d88f68-c247-4eee-8cab-b7f16177487f",
   "metadata": {},
   "outputs": [
    {
     "name": "stdout",
     "output_type": "stream",
     "text": [
      "三整數: 3 , 5 , 3排序: 3 , 3 , 5 "
     ]
    }
   ],
   "source": [
    "##隨機整數\n",
    "import numpy as np\n",
    "import random as rd\n",
    "List1 = np.array([])\n",
    "for i in range(3):\n",
    "    x = rd.randint(1,10)\n",
    "    List1 = np.append(List1,x)\n",
    "print('三整數:',int(List1[0]),',',int(List1[1]),',',int(List1[2]),end='')\n",
    "List1= np.sort(List1)\n",
    "print('排序:',int(List1[0]),',',int(List1[1]),',',int(List1[2]),end=' ')\n"
   ]
  },
  {
   "cell_type": "code",
   "execution_count": 9,
   "id": "18ff7c46-0113-4291-aad7-5c9fb8ea8878",
   "metadata": {},
   "outputs": [
    {
     "name": "stdout",
     "output_type": "stream",
     "text": [
      "10 + 1 = 10 The answer is False\n"
     ]
    }
   ],
   "source": [
    "##整數相加\n",
    "import random as rd\n",
    "y1 = rd.randint(1,10)\n",
    "y2 = rd.randint(1,10)\n",
    "y3 = rd.randint(1,10)\n",
    "check = y1+y2==y3\n",
    "print(y1,'+',y2,'=',y3,'The answer is',check)"
   ]
  },
  {
   "cell_type": "code",
   "execution_count": 10,
   "id": "56d39b8d-063a-4b26-abc5-8ad0d37a7608",
   "metadata": {},
   "outputs": [
    {
     "name": "stdout",
     "output_type": "stream",
     "text": [
      "Is 411421322 divisble by 5 and 6? False\n",
      "Is 411421322 divisble by 5 or 6? False\n",
      "Is 411421322 divisble by 5 or 6,but not both ? False\n"
     ]
    }
   ],
   "source": [
    "##學號56整除\n",
    "std = 411421322\n",
    "d5and6 = std %5 ==0 and std%6 ==0\n",
    "d5or6 = std %5 ==0 or std%6 ==0\n",
    "onlyone5_6=(std%6 ==0 and std%5!=0) or (std%6 !=0 and std%5==0)\n",
    "print('Is',std,'divisble by 5 and 6?',d5and6)\n",
    "print('Is',std,'divisble by 5 or 6?',d5or6)\n",
    "print('Is',std,'divisble by 5 or 6,but not both ?',onlyone5_6)"
   ]
  },
  {
   "cell_type": "code",
   "execution_count": 11,
   "id": "018a9bf5-94a7-46f4-a8d1-5035d03947e7",
   "metadata": {},
   "outputs": [
    {
     "name": "stdin",
     "output_type": "stream",
     "text": [
      "Type your password: 4114213223\n"
     ]
    },
    {
     "name": "stdout",
     "output_type": "stream",
     "text": [
      "Wrong password\n"
     ]
    },
    {
     "name": "stdin",
     "output_type": "stream",
     "text": [
      "Type your password: 411421322\n"
     ]
    },
    {
     "name": "stdout",
     "output_type": "stream",
     "text": [
      "Login\n"
     ]
    }
   ],
   "source": [
    "##密碼\n",
    "std = 411421322\n",
    "while True:\n",
    "    user = int(input('Type your password:'))\n",
    "    if user == std:\n",
    "        print('Login')\n",
    "        break\n",
    "    else:\n",
    "        print('Wrong password')"
   ]
  },
  {
   "cell_type": "code",
   "execution_count": 12,
   "id": "5536c4c4-55ab-45cf-bb3a-b131626b35ad",
   "metadata": {},
   "outputs": [
    {
     "name": "stdout",
     "output_type": "stream",
     "text": [
      "(x,y) =  -0.20945317996548596 , -0.2344000173041838\n"
     ]
    }
   ],
   "source": [
    "##隨機小數\n",
    "import random as rd\n",
    "x,y = rd.uniform(-1,1),rd.uniform(-1,1)\n",
    "print('(x,y) = ',x,',',y)"
   ]
  },
  {
   "cell_type": "code",
   "execution_count": 13,
   "id": "9405d0aa-66ab-4404-9de0-92210649da3d",
   "metadata": {},
   "outputs": [
    {
     "name": "stdout",
     "output_type": "stream",
     "text": [
      "(x,y) =  0.3592202603407961 , 0.45571864324477684\n",
      "x*x+y*y <=1 is True\n"
     ]
    }
   ],
   "source": [
    "##隨機小數 各別平方數 相加小於1\n",
    "import random as rd\n",
    "x,y = rd.uniform(-1,1),rd.uniform(-1,1)\n",
    "TF= (x**2 + y**2) <=1\n",
    "print('(x,y) = ',x,',',y)\n",
    "print('x*x+y*y <=1 is',TF)"
   ]
  },
  {
   "cell_type": "code",
   "execution_count": 14,
   "id": "1d2bea4c-9657-420f-b173-67fe2cc26cbd",
   "metadata": {},
   "outputs": [
    {
     "name": "stdout",
     "output_type": "stream",
     "text": [
      "PI is 3.1388\n"
     ]
    }
   ],
   "source": [
    "##pi估算\n",
    "import random as rd\n",
    "numberOfHits = 0\n",
    "NUMBER_OF_TRIALS = 10000\n",
    "for i in range(NUMBER_OF_TRIALS):\n",
    "    x = rd.uniform(-1,1)\n",
    "    y = rd.uniform(-1,1)\n",
    "    if x**2 + y**2 <=1:\n",
    "        numberOfHits +=1\n",
    "pi = float(4*(numberOfHits /NUMBER_OF_TRIALS))\n",
    "print('PI is',pi)\n",
    "##NUMBER_OF_TRIALS=100000 ->小數點後5位   "
   ]
  },
  {
   "cell_type": "code",
   "execution_count": 16,
   "id": "87c435f6-1f31-45f3-b96c-b714070bcfa0",
   "metadata": {},
   "outputs": [
    {
     "name": "stdin",
     "output_type": "stream",
     "text": [
      "input : 17\n"
     ]
    },
    {
     "name": "stdout",
     "output_type": "stream",
     "text": [
      "17 isPrime True\n"
     ]
    }
   ],
   "source": [
    "##判別質數\n",
    "class solu:\n",
    "    num = int(input('input :'))\n",
    "    prime = True\n",
    "    def main():\n",
    "        for i in range(2,solu.num):\n",
    "            if solu.num % i ==0:\n",
    "                solu.prime = False\n",
    "                break\n",
    "        print(solu.num,'isPrime',solu.prime)\n",
    "solu.main()"
   ]
  },
  {
   "cell_type": "code",
   "execution_count": 17,
   "id": "1d6a0e62-afeb-4b0d-8994-36452b93c4d7",
   "metadata": {},
   "outputs": [
    {
     "name": "stdout",
     "output_type": "stream",
     "text": [
      "2 isPrime True\n",
      "3 isPrime True\n",
      "4 isPrime False\n",
      "5 isPrime True\n",
      "6 isPrime False\n",
      "7 isPrime True\n",
      "8 isPrime False\n",
      "9 isPrime False\n",
      "10 isPrime False\n"
     ]
    }
   ],
   "source": [
    "##2~10質數\n",
    "class solu:\n",
    "    num = 2\n",
    "    prime = True\n",
    "    count = 9\n",
    "    x=0\n",
    "    def main():\n",
    "        while solu.x != solu.count:\n",
    "            solu.prime = True\n",
    "            for i in range(2,solu.num):\n",
    "                if solu.num % i ==0:\n",
    "                    solu.prime = False\n",
    "                    break\n",
    "            print(solu.num,'isPrime',solu.prime)\n",
    "            solu.x+=1\n",
    "            solu.num+=1\n",
    "solu.main()"
   ]
  },
  {
   "cell_type": "code",
   "execution_count": 3,
   "id": "aa9cf366-4861-4458-9c06-585869bacd86",
   "metadata": {},
   "outputs": [
    {
     "name": "stdout",
     "output_type": "stream",
     "text": [
      "2\n",
      "3\n",
      "5\n",
      "7\n",
      "11\n"
     ]
    }
   ],
   "source": [
    "##前五個質數\n",
    "class solu:\n",
    "    def main():\n",
    "        count = 5\n",
    "        primetotal=0\n",
    "        num =2\n",
    "        while primetotal!=count:\n",
    "            Prime =True\n",
    "            for i in range(2,num):\n",
    "                if num % i ==0:\n",
    "                    Prime = False\n",
    "                    num+=1\n",
    "                    break\n",
    "            if Prime:\n",
    "                primetotal+=1\n",
    "                print(num)\n",
    "                num+=1\n",
    "solu.main()\n",
    "        "
   ]
  },
  {
   "cell_type": "code",
   "execution_count": 2,
   "id": "d7b3b2f9-1344-4970-85f0-f10747bda2f6",
   "metadata": {},
   "outputs": [
    {
     "name": "stdout",
     "output_type": "stream",
     "text": [
      "    2     3     5     7    11    13    17    19    23    29 \n",
      "   31    37    41    43    47    53    59    61    67    71 \n",
      "   73    79    83    89    97   101   103   107   109   113 \n",
      "  127   131   137   139   149   151   157   163   167   173 \n",
      "  179   181   191   193   197   199   211   223   227   229 \n"
     ]
    }
   ],
   "source": [
    "##輸出50個質數\n",
    "class solu:\n",
    "    count = 50\n",
    "    x=0\n",
    "    num=2\n",
    "    def main():\n",
    "        while solu.x!=solu.count:\n",
    "            solu.prime = True\n",
    "            for i in range(2,solu.num):\n",
    "                if solu.num % i ==0:\n",
    "                    solu.prime = False\n",
    "                    solu.num = solu.num +1\n",
    "                    break\n",
    "            if solu.prime:\n",
    "                print('%5s'%solu.num,end=\" \")\n",
    "                solu.num=solu.num+1\n",
    "                solu.x=solu.x+1\n",
    "                if solu.x%10==0:\n",
    "                    print('')\n",
    "solu.main()"
   ]
  },
  {
   "cell_type": "code",
   "execution_count": null,
   "id": "1c945a73-c2c3-4af5-87c5-80ab908238c2",
   "metadata": {},
   "outputs": [],
   "source": []
  }
 ],
 "metadata": {
  "kernelspec": {
   "display_name": "Python 3 (ipykernel)",
   "language": "python",
   "name": "python3"
  },
  "language_info": {
   "codemirror_mode": {
    "name": "ipython",
    "version": 3
   },
   "file_extension": ".py",
   "mimetype": "text/x-python",
   "name": "python",
   "nbconvert_exporter": "python",
   "pygments_lexer": "ipython3",
   "version": "3.9.12"
  }
 },
 "nbformat": 4,
 "nbformat_minor": 5
}
