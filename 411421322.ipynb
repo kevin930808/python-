{
 "cells": [
  {
   "cell_type": "code",
   "execution_count": 1,
   "id": "4132050c-8231-4606-b0e8-6ca71acadced",
   "metadata": {},
   "outputs": [
    {
     "name": "stdout",
     "output_type": "stream",
     "text": [
      "117 isPrime False\n"
     ]
    }
   ],
   "source": [
    "class solu:\n",
    "    num = 117\n",
    "    prime = True\n",
    "    def main():\n",
    "        for i in range(2,solu.num):\n",
    "            if solu.num % i ==0:\n",
    "                solu.prime = False\n",
    "                break\n",
    "        print(solu.num,'isPrime',solu.prime)\n",
    "solu.main()"
   ]
  },
  {
   "cell_type": "code",
   "execution_count": 1,
   "id": "ff3f2b48-9fbd-41b2-b5db-d4798bdc6a19",
   "metadata": {},
   "outputs": [
    {
     "name": "stdout",
     "output_type": "stream",
     "text": [
      "2 isPrime True\n",
      "3 isPrime True\n",
      "4 isPrime False\n",
      "5 isPrime True\n",
      "6 isPrime False\n",
      "7 isPrime True\n",
      "8 isPrime False\n",
      "9 isPrime False\n",
      "10 isPrime False\n"
     ]
    }
   ],
   "source": [
    "class solu:\n",
    "    num = 2\n",
    "    prime = True\n",
    "    count = 9\n",
    "    x=0\n",
    "    def main():\n",
    "        while solu.x != solu.count:\n",
    "            solu.prime = True\n",
    "            for i in range(2,solu.num):\n",
    "                if solu.num % i ==0:\n",
    "                    solu.prime = False\n",
    "                    break\n",
    "            print(solu.num,'isPrime',solu.prime)\n",
    "            solu.x+=1\n",
    "            solu.num+=1\n",
    "solu.main()"
   ]
  },
  {
   "cell_type": "code",
   "execution_count": 4,
   "id": "77430817-98a4-40e7-811b-1a217d6424c0",
   "metadata": {},
   "outputs": [
    {
     "name": "stdout",
     "output_type": "stream",
     "text": [
      "2 isPrime True\n",
      "3 isPrime True\n",
      "4 isPrime False\n",
      "5 isPrime True\n",
      "6 isPrime False\n",
      "7 isPrime True\n",
      "8 isPrime False\n",
      "9 isPrime False\n",
      "10 isPrime False\n"
     ]
    }
   ],
   "source": [
    "class solu:\n",
    "    num = 2\n",
    "    prime = True\n",
    "    count = 9\n",
    "    x=0\n",
    "    def main():\n",
    "        while solu.x != solu.count:\n",
    "            solu.prime = True\n",
    "            for i in range(2,solu.num):\n",
    "                if solu.num % i ==0:\n",
    "                    solu.prime = False\n",
    "                    break\n",
    "            print(solu.num,'isPrime',solu.prime)\n",
    "            solu.x+=1\n",
    "            solu.num+=1\n",
    "solu.main()"
   ]
  },
  {
   "cell_type": "code",
   "execution_count": 5,
   "id": "6f7c2a64-d924-4d73-bbc8-17abd0366962",
   "metadata": {},
   "outputs": [
    {
     "name": "stdout",
     "output_type": "stream",
     "text": [
      "    2     3     5     7    11    13    17    19    23    29 \n",
      "   31    37    41    43    47    53    59    61    67    71 \n",
      "   73    79    83    89    97   101   103   107   109   113 \n",
      "  127   131   137   139   149   151   157   163   167   173 \n",
      "  179   181   191   193   197   199   211   223   227   229 \n"
     ]
    }
   ],
   "source": [
    "class solu:\n",
    "    count = 50\n",
    "    x=0\n",
    "    num=2\n",
    "    def main():\n",
    "        while solu.x!=solu.count:\n",
    "            solu.prime = True\n",
    "            for i in range(2,solu.num):\n",
    "                if solu.num % i ==0:\n",
    "                    solu.prime = False\n",
    "                    solu.num = solu.num +1\n",
    "                    break\n",
    "            if solu.prime:\n",
    "                print('%5s'%solu.num,end=\" \")\n",
    "                solu.num=solu.num+1\n",
    "                solu.x=solu.x+1\n",
    "                if solu.x%10==0:\n",
    "                    print('')\n",
    "solu.main()\n"
   ]
  },
  {
   "cell_type": "code",
   "execution_count": null,
   "id": "465a9fb0-268d-4961-b983-8d191d90f53d",
   "metadata": {},
   "outputs": [],
   "source": []
  }
 ],
 "metadata": {
  "kernelspec": {
   "display_name": "Python 3",
   "language": "python",
   "name": "python3"
  },
  "language_info": {
   "codemirror_mode": {
    "name": "ipython",
    "version": 3
   },
   "file_extension": ".py",
   "mimetype": "text/x-python",
   "name": "python",
   "nbconvert_exporter": "python",
   "pygments_lexer": "ipython3",
   "version": "3.8.8"
  }
 },
 "nbformat": 4,
 "nbformat_minor": 5
}
