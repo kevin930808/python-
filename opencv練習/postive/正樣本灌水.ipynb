{
 "cells": [
  {
   "cell_type": "code",
   "execution_count": 8,
   "id": "77c0a2e8-db8a-4c5f-b5a9-bd03f51761dd",
   "metadata": {},
   "outputs": [],
   "source": [
    "import os\n",
    "import cv2\n",
    "path='./'\n",
    "imgs=os.listdir(path)\n",
    "n=0\n",
    "for img in imgs:\n",
    "    if '.jpg' in img:\n",
    "        i = cv2.imread(img)\n",
    "        cv2.imwrite('./new/'+str(n)+'.jpg',i)\n",
    "        n+=1\n",
    "        j=cv2.flip(i,1)\n",
    "        cv2.imwrite('./new/'+str(n)+'.jpg',j)\n",
    "        n+=1\n"
   ]
  },
  {
   "cell_type": "code",
   "execution_count": null,
   "id": "d3eee65e-1ed9-4be2-8dd3-dcfb8fe18f2c",
   "metadata": {},
   "outputs": [],
   "source": []
  }
 ],
 "metadata": {
  "kernelspec": {
   "display_name": "Python 3 (ipykernel)",
   "language": "python",
   "name": "python3"
  },
  "language_info": {
   "codemirror_mode": {
    "name": "ipython",
    "version": 3
   },
   "file_extension": ".py",
   "mimetype": "text/x-python",
   "name": "python",
   "nbconvert_exporter": "python",
   "pygments_lexer": "ipython3",
   "version": "3.9.13"
  }
 },
 "nbformat": 4,
 "nbformat_minor": 5
}
