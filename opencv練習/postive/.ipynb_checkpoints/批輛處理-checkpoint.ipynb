{
 "cells": [
  {
   "cell_type": "code",
   "execution_count": 6,
   "id": "566f3459-c985-47dd-abd3-4a795219c604",
   "metadata": {},
   "outputs": [
    {
     "name": "stdout",
     "output_type": "stream",
     "text": [
      "./true/1.jpg\n",
      "./true/2.jpg\n",
      "./true/3.jpg\n",
      "./true/4.jpg\n",
      "./true/5.jpg\n",
      "./true/6.jpg\n",
      "./true/7.jpg\n",
      "./true/8.jpg\n",
      "./true/9.jpg\n",
      "./true/10.jpg\n",
      "./true/11.jpg\n",
      "./true/12.jpg\n",
      "./true/13.jpg\n",
      "./true/14.jpg\n",
      "./true/15.jpg\n",
      "./true/16.jpg\n",
      "./true/17.jpg\n",
      "./true/18.jpg\n",
      "./true/19.jpg\n",
      "./true/20.jpg\n",
      "./true/21.jpg\n",
      "./true/22.jpg\n",
      "./true/23.jpg\n",
      "./true/24.jpg\n",
      "./true/25.jpg\n",
      "./true/26.jpg\n",
      "./true/27.jpg\n",
      "./true/28.jpg\n",
      "./true/29.jpg\n",
      "./true/30.jpg\n",
      "./true/31.jpg\n",
      "./true/32.jpg\n",
      "./true/33.jpg\n",
      "./true/34.jpg\n",
      "./true/35.jpg\n",
      "./true/36.jpg\n",
      "./true/37.jpg\n",
      "./true/38.jpg\n",
      "./true/39.jpg\n",
      "./true/40.jpg\n",
      "./true/41.jpg\n",
      "./true/42.jpg\n",
      "./true/43.jpg\n",
      "./true/44.jpg\n",
      "./true/45.jpg\n",
      "./true/46.jpg\n",
      "./true/47.jpg\n",
      "./true/48.jpg\n",
      "./true/49.jpg\n",
      "./true/50.jpg\n"
     ]
    }
   ],
   "source": [
    "#resize\n",
    "import cv2\n",
    "import os\n",
    "path = './'\n",
    "imgs=os.listdir(path)\n",
    "for i in imgs:\n",
    "    print(path+str(i)+'.jpg')\n",
    "    img = cv2.imread(path+str(i)+'.jpg', 2)\n",
    "    img5050 = cv2.resize(img, (50, 50))\n",
    "    cv2.imshow(\"img\", img5050)\n",
    "    cv2.waitKey(20)\n",
    "    cv2.imwrite('./output/'+str(i)+'.jpg', img5050)\n"
   ]
  },
  {
   "cell_type": "code",
   "execution_count": 7,
   "id": "15cc775a-0663-4b50-bfb8-cef0d7ea8daa",
   "metadata": {},
   "outputs": [
    {
     "name": "stdout",
     "output_type": "stream",
     "text": [
      "C:\\Users\\tnt93\\Desktop\\輔仁\\github\\python-\\opencv練習\n"
     ]
    }
   ],
   "source": [
    "# info\n",
    "import os\n",
    "file_dir=os.getcwd()\n",
    "print(file_dir)\n",
    "file_dir=r'.\\output'\n",
    "L=[]\n",
    "i=0\n",
    "with open(r\".\\pos.txt\",\"w+\") as f:\n",
    "    for root, dirs, files in os.walk(file_dir):\n",
    "        for file in files:  \n",
    "            if os.path.splitext(file)[1] == '.jpg':\n",
    "                L.append(os.path.join(root, file))\n",
    "                f.write(L[i]+' 1'+' 0'+' 0'+' 50'+' 50'+'\\n')\n",
    "                i+=1"
   ]
  },
  {
   "cell_type": "code",
   "execution_count": 3,
   "id": "4513cf67-6974-40a0-b908-eee731ac6644",
   "metadata": {},
   "outputs": [],
   "source": []
  },
  {
   "cell_type": "code",
   "execution_count": 18,
   "id": "0612e384-9396-4941-96be-8836b34fb693",
   "metadata": {},
   "outputs": [
    {
     "data": {
      "text/plain": [
       "True"
      ]
     },
     "execution_count": 18,
     "metadata": {},
     "output_type": "execute_result"
    }
   ],
   "source": [
    "import os\n",
    "import cv2\n",
    "path='./postive/1.jpg'\n",
    "img=cv2.imread(path)\n",
    "cv2.imshow('os',img)\n",
    "cv2.waitKey(0)\n",
    "cv2.destroyAllWindows()\n",
    "cv2.imwrite('1.jpg',img)"
   ]
  },
  {
   "cell_type": "code",
   "execution_count": null,
   "id": "aa0b0ee2-567e-488a-b0df-f7b1c7bc78a0",
   "metadata": {},
   "outputs": [],
   "source": []
  }
 ],
 "metadata": {
  "kernelspec": {
   "display_name": "Python 3 (ipykernel)",
   "language": "python",
   "name": "python3"
  },
  "language_info": {
   "codemirror_mode": {
    "name": "ipython",
    "version": 3
   },
   "file_extension": ".py",
   "mimetype": "text/x-python",
   "name": "python",
   "nbconvert_exporter": "python",
   "pygments_lexer": "ipython3",
   "version": "3.9.12"
  }
 },
 "nbformat": 4,
 "nbformat_minor": 5
}
