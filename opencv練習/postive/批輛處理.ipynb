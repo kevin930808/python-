{
 "cells": [
  {
   "cell_type": "code",
   "execution_count": 1,
   "id": "566f3459-c985-47dd-abd3-4a795219c604",
   "metadata": {},
   "outputs": [
    {
     "name": "stdout",
     "output_type": "stream",
     "text": [
      ".ipynb_checkpoints\n",
      "maskv4.xml\n",
      "opencv練習.ipynb\n",
      "output\n",
      "pos.txt\n",
      "postive\n",
      "Untitled.ipynb\n",
      "water\n",
      "分類器\n",
      "戴口罩\n",
      "樣本\n"
     ]
    }
   ],
   "source": [
    "#resize\n",
    "import cv2\n",
    "import os\n",
    "path = './'\n",
    "imgs=os.listdir(path)\n",
    "n=0\n",
    "for i in imgs:\n",
    "    print(i)\n",
    "    if 'new' in i:\n",
    "        print('yes')\n",
    "        img = cv2.imread('%s'%i, 2)\n",
    "        img5050 = cv2.resize(img, (50, 50))\n",
    "        cv2.imshow(\"img\", img5050)\n",
    "        cv2.waitKey(20)\n",
    "        cv2.imwrite('./output/'+str(n)+'.jpg', img5050)\n",
    "        n=n+1\n"
   ]
  },
  {
   "cell_type": "code",
   "execution_count": 7,
   "id": "15cc775a-0663-4b50-bfb8-cef0d7ea8daa",
   "metadata": {},
   "outputs": [
    {
     "name": "stdout",
     "output_type": "stream",
     "text": [
      "C:\\Users\\tnt93\\Desktop\\輔仁\\github\\python-\\opencv練習\n"
     ]
    }
   ],
   "source": [
    "# info\n",
    "import os\n",
    "file_dir=os.getcwd()\n",
    "print(file_dir)\n",
    "file_dir=r'.\\output'\n",
    "L=[]\n",
    "i=0\n",
    "with open(r\".\\pos.txt\",\"w+\") as f:\n",
    "    for root, dirs, files in os.walk(file_dir):\n",
    "        for file in files:  \n",
    "            if os.path.splitext(file)[1] == '.jpg':\n",
    "                L.append(os.path.join(root, file))\n",
    "                f.write(L[i]+' 1'+' 0'+' 0'+' 50'+' 50'+'\\n')\n",
    "                i+=1"
   ]
  },
  {
   "cell_type": "code",
   "execution_count": 3,
   "id": "4513cf67-6974-40a0-b908-eee731ac6644",
   "metadata": {},
   "outputs": [],
   "source": []
  },
  {
   "cell_type": "code",
   "execution_count": 18,
   "id": "0612e384-9396-4941-96be-8836b34fb693",
   "metadata": {},
   "outputs": [
    {
     "data": {
      "text/plain": [
       "True"
      ]
     },
     "execution_count": 18,
     "metadata": {},
     "output_type": "execute_result"
    }
   ],
   "source": [
    "import os\n",
    "import cv2\n",
    "path='./postive/1.jpg'\n",
    "img=cv2.imread(path)\n",
    "cv2.imshow('os',img)\n",
    "cv2.waitKey(0)\n",
    "cv2.destroyAllWindows()\n",
    "cv2.imwrite('1.jpg',img)"
   ]
  },
  {
   "cell_type": "code",
   "execution_count": null,
   "id": "aa0b0ee2-567e-488a-b0df-f7b1c7bc78a0",
   "metadata": {},
   "outputs": [],
   "source": []
  }
 ],
 "metadata": {
  "kernelspec": {
   "display_name": "Python 3 (ipykernel)",
   "language": "python",
   "name": "python3"
  },
  "language_info": {
   "codemirror_mode": {
    "name": "ipython",
    "version": 3
   },
   "file_extension": ".py",
   "mimetype": "text/x-python",
   "name": "python",
   "nbconvert_exporter": "python",
   "pygments_lexer": "ipython3",
   "version": "3.9.12"
  }
 },
 "nbformat": 4,
 "nbformat_minor": 5
}
