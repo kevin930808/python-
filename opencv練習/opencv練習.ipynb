{
 "cells": [
  {
   "cell_type": "code",
   "execution_count": null,
   "id": "7c73b362-599b-493e-a481-722f30d615c9",
   "metadata": {},
   "outputs": [],
   "source": [
    "##cv2.imread('檔案名or路徑','mode')\n",
    "import cv2\n",
    "img = cv2.imread('dunk.jpg',6)\n",
    "gray = cv2.cvtColor(img,cv2.COLOR_BGR2GRAY)\n",
    "cv2.imshow('8741',gray) #開啟圖片 且視窗名8731\n",
    "cv2.waitKey(0)                 # 按下任意鍵停止\n",
    "cv2.destroyAllWindows() #結束視窗"
   ]
  },
  {
   "cell_type": "code",
   "execution_count": null,
   "id": "8b6de4dc-bab4-4073-8f5f-654b3a2ed16f",
   "metadata": {},
   "outputs": [],
   "source": [
    "#cvtColor(圖片,轉換格式)\n",
    "import cv2\n",
    "cam = cv2.VideoCapture(0)\n",
    "while True:\n",
    "    ret,frame = cam.read()\n",
    "    gray = cv2.cvtColor(frame,cv2.COLOR_BGR2GRAY)#換黑白\n",
    "    cv2.imshow('攝影機',gray)\n",
    "    if cv2.waitKey(1) == ord('a'):\n",
    "        break\n",
    "cam.release()\n",
    "cv2.destroyAllWindows()"
   ]
  },
  {
   "cell_type": "code",
   "execution_count": null,
   "id": "c604caa5-3c22-4c0e-8334-381057c795ee",
   "metadata": {},
   "outputs": [],
   "source": [
    "import cv2\n",
    "cam = cv2.VideoCapture(0)\n",
    "w= int(cam.get(cv2.CAP_PROP_FRAME_WIDTH))\n",
    "h= int(cam.get(cv2.CAP_PROP_FRAME_HEIGHT))\n",
    "dtype = cv2.VideoWriter_fourcc(*'MJPG')\n",
    "video=cv2.VideoWriter('test.mp4',dtype,5.0,(w,h))\n",
    "while True:\n",
    "    ret , frame= cam.read()\n",
    "    video.write(frame)\n",
    "    cv2.imshow('cam',frame)\n",
    "    if  cv2.waitKey(0) == ord('q')\n",
    "        break\n",
    "cam.release()\n",
    "video.release()\n",
    "cv2.destroyAllWindows()"
   ]
  },
  {
   "cell_type": "code",
   "execution_count": null,
   "id": "f9a4ba55-7963-437e-a7f2-824aa9202fc8",
   "metadata": {},
   "outputs": [],
   "source": [
    "import cv2\n",
    "img = cv2.imread('dunk.jpg')\n",
    "print(img.shape)#img的寬和長 及色板數量\n",
    "print(img.size)#橡素總和 = 寬x長x色板\n",
    "print(img.dtype)#數據類型\n",
    "print(img)#img的三維陣列\n",
    "cv2.imshow('jpg',img)\n",
    "cv2.waitKey(0)\n",
    "cv2.destroyAllWindows()"
   ]
  },
  {
   "cell_type": "code",
   "execution_count": null,
   "id": "cd4197ca-ed1c-4a7e-84d0-86a5220bdc0f",
   "metadata": {},
   "outputs": [],
   "source": [
    "import cv2\n",
    "img = cv2.imread('dunk.jpg')\n",
    "x = cv2.flip(img,0) ## 上下 0 左右 1 上下左右-1\n",
    "y =cv2.flip(img,1)\n",
    "z=cv2.flip(img,-1)\n",
    "i = cv2.rotate()\n",
    "cv2.imwrite('1.jpg',x)\n",
    "cv2.imwrite('2.jpg',y)\n",
    "cv2.imwrite('3.jpg',z)\n"
   ]
  },
  {
   "cell_type": "code",
   "execution_count": 1,
   "id": "1672e182-ba59-4ffe-83a2-ac6ebddc2088",
   "metadata": {},
   "outputs": [],
   "source": [
    "import cv2\n",
    "cap = cv2.VideoCapture(0)\n",
    "mask_cascade = cv2.CascadeClassifier('./maskv5.xml')\n",
    "while True:\n",
    "    ret, frame = cap.read()\n",
    "    if not ret:\n",
    "        print(\"Cannot receive frame\")\n",
    "        break\n",
    "                 # 縮小尺寸，避免尺寸過大導致效能不好\n",
    "    gray = cv2.cvtColor(frame, cv2.COLOR_BGR2GRAY)   # 將鏡頭影像轉換成灰階\n",
    "    faces = mask_cascade.detectMultiScale(gray)      # 偵測人臉\n",
    "    for (x, y, w, h) in faces:\n",
    "        cv2.rectangle(frame, (x, y), (x+w, y+h), (0, 255, 0), 2)   # 標記人臉\n",
    "    cv2.imshow('oxxostudio', frame)\n",
    "    if cv2.waitKey(1) == ord('q'):\n",
    "        break\n",
    "cap.release()\n",
    "cv2.destroyAllWindows()"
   ]
  },
  {
   "cell_type": "code",
   "execution_count": 1,
   "id": "e1d00e57-58f9-4b7d-8b3a-f57f26b0cd83",
   "metadata": {},
   "outputs": [
    {
     "ename": "NameError",
     "evalue": "name 'cap' is not defined",
     "output_type": "error",
     "traceback": [
      "\u001b[1;31m---------------------------------------------------------------------------\u001b[0m",
      "\u001b[1;31mNameError\u001b[0m                                 Traceback (most recent call last)",
      "Input \u001b[1;32mIn [1]\u001b[0m, in \u001b[0;36m<cell line: 13>\u001b[1;34m()\u001b[0m\n\u001b[0;32m     11\u001b[0m     \u001b[38;5;28;01mif\u001b[39;00m cv2\u001b[38;5;241m.\u001b[39mwaitKey(\u001b[38;5;241m1\u001b[39m) \u001b[38;5;241m==\u001b[39m \u001b[38;5;28mord\u001b[39m(\u001b[38;5;124m'\u001b[39m\u001b[38;5;124mq\u001b[39m\u001b[38;5;124m'\u001b[39m):\n\u001b[0;32m     12\u001b[0m         \u001b[38;5;28;01mbreak\u001b[39;00m\n\u001b[1;32m---> 13\u001b[0m \u001b[43mcap\u001b[49m\u001b[38;5;241m.\u001b[39mrelease()\n\u001b[0;32m     14\u001b[0m cv2\u001b[38;5;241m.\u001b[39mdestroyAllWindows()\n",
      "\u001b[1;31mNameError\u001b[0m: name 'cap' is not defined"
     ]
    }
   ],
   "source": [
    "import cv2\n",
    "img = cv2.imread('./2.jpg')\n",
    "mask_cascade = cv2.CascadeClassifier('./maskv5.xml')\n",
    "while True:\n",
    "                 # 縮小尺寸，避免尺寸過大導致效能不好\n",
    "    gray = cv2.cvtColor(img, cv2.COLOR_BGR2GRAY)   # 將鏡頭影像轉換成灰階\n",
    "    faces = mask_cascade.detectMultiScale(gray)      # 偵測人臉\n",
    "    for (x, y, w, h) in faces:\n",
    "        cv2.rectangle(img, (x, y), (x+w, y+h), (0, 255, 0), 2)   # 標記人臉\n",
    "    cv2.imshow('oxxostudio', img)\n",
    "    if cv2.waitKey(1) == ord('q'):\n",
    "        break\n",
    "cap.release()\n",
    "cv2.destroyAllWindows()"
   ]
  },
  {
   "cell_type": "markdown",
   "id": "14ad7220-0e06-41ea-8e1f-27d819d0d1b1",
   "metadata": {
    "tags": []
   },
   "source": [
    ".\\opencv_traincascade.exe -data xml -vec pos.vec -bg bg.txt -numPos 100 -numNeg 450 -numStages 15 -w 50 -h 50 -minHitRate 0.999 -maxFalseAlarmRate 0.5 -mode ALL"
   ]
  },
  {
   "cell_type": "markdown",
   "id": "28c370d1-43f5-460e-b96a-c7e96e2eacf2",
   "metadata": {},
   "source": [
    ".\\opencv_createsamples.exe -vec pos.vec -info pos.txt -bg bg.txt -num 100 -w 50 -h 50"
   ]
  }
 ],
 "metadata": {
  "kernelspec": {
   "display_name": "Python 3 (ipykernel)",
   "language": "python",
   "name": "python3"
  },
  "language_info": {
   "codemirror_mode": {
    "name": "ipython",
    "version": 3
   },
   "file_extension": ".py",
   "mimetype": "text/x-python",
   "name": "python",
   "nbconvert_exporter": "python",
   "pygments_lexer": "ipython3",
   "version": "3.9.12"
  }
 },
 "nbformat": 4,
 "nbformat_minor": 5
}
