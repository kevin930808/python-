{
 "cells": [
  {
   "cell_type": "code",
   "execution_count": 26,
   "id": "ee857db4-8ff4-45ea-a85d-b45cc4f52145",
   "metadata": {},
   "outputs": [],
   "source": [
    "import urllib.request\n",
    "from selenium import webdriver\n",
    "from selenium.webdriver.common.by import By\n",
    "from selenium.webdriver.common.keys import Keys\n",
    "import time \n",
    "head='Mozilla/5.0 (Windows NT 6.1) AppleWebKit/537.36 (KHTML, like Gecko) Chrome/52.0.2743.116 Safari/537.36'\n",
    "opt = webdriver.ChromeOptions()\n",
    "opt.add_argument('--user-agent=%s' %head)\n",
    "driver = webdriver.Chrome(options=opt)\n",
    "time.sleep(5)\n",
    "driver.get('https://www.dcard.tw/f/sex')\n",
    "driver.maximize_window()\n",
    "driver.implicitly_wait(3)\n",
    "img = driver.find_elements(By.CSS_SELECTOR,'[alt=\"thumbnail\"]')\n",
    "\n",
    "for i in img:\n",
    "    x= i.get_attribute('src')\n",
    "    print(x)\n",
    "\n"
   ]
  },
  {
   "cell_type": "code",
   "execution_count": null,
   "id": "c8bb438c-021c-49e0-8a23-9980bbf7aa0d",
   "metadata": {},
   "outputs": [],
   "source": []
  }
 ],
 "metadata": {
  "kernelspec": {
   "display_name": "Python 3 (ipykernel)",
   "language": "python",
   "name": "python3"
  },
  "language_info": {
   "codemirror_mode": {
    "name": "ipython",
    "version": 3
   },
   "file_extension": ".py",
   "mimetype": "text/x-python",
   "name": "python",
   "nbconvert_exporter": "python",
   "pygments_lexer": "ipython3",
   "version": "3.9.13"
  }
 },
 "nbformat": 4,
 "nbformat_minor": 5
}
