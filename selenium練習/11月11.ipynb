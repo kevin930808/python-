{
 "cells": [
  {
   "cell_type": "code",
   "execution_count": 29,
   "id": "ee857db4-8ff4-45ea-a85d-b45cc4f52145",
   "metadata": {},
   "outputs": [],
   "source": [
    "import urllib.request\n",
    "from selenium import webdriver\n",
    "from selenium.webdriver.common.by import By\n",
    "from selenium.webdriver.common.keys import Keys\n",
    "driver = webdriver.Chrome()\n",
    "driver.get('https://www.dcard.tw/f/meme')\n",
    "img = driver.find_elements(By.XPATH,'//*[@id=\"__next\"]/div[2]/div[2]/div/div/div/div[2]/div[2]/div/div/div[1]/div[6]/article/div[2]/div/div/div/span')\n",
    "for i in img:\n",
    "    url=i.get_attribute('src')\n",
    "    print(url)\n",
    "\n",
    "\n"
   ]
  },
  {
   "cell_type": "code",
   "execution_count": 10,
   "id": "f009a6ae-6082-40dc-98e3-e36e4bff5e33",
   "metadata": {},
   "outputs": [
    {
     "ename": "ElementNotInteractableException",
     "evalue": "Message: element not interactable\n  (Session info: chrome=107.0.5304.107)\nStacktrace:\nBacktrace:\n\tOrdinal0 [0x00BFACD3+2075859]\n\tOrdinal0 [0x00B8EE61+1633889]\n\tOrdinal0 [0x00A8B680+571008]\n\tOrdinal0 [0x00ABBBD6+768982]\n\tOrdinal0 [0x00AB1C76+728182]\n\tOrdinal0 [0x00AD731C+881436]\n\tOrdinal0 [0x00AB15BF+726463]\n\tOrdinal0 [0x00AD7534+881972]\n\tOrdinal0 [0x00AEB56A+963946]\n\tOrdinal0 [0x00AD7136+880950]\n\tOrdinal0 [0x00AAFEFD+720637]\n\tOrdinal0 [0x00AB0F3F+724799]\n\tGetHandleVerifier [0x00EAEED2+2769538]\n\tGetHandleVerifier [0x00EA0D95+2711877]\n\tGetHandleVerifier [0x00C8A03A+521194]\n\tGetHandleVerifier [0x00C88DA0+516432]\n\tOrdinal0 [0x00B9682C+1665068]\n\tOrdinal0 [0x00B9B128+1683752]\n\tOrdinal0 [0x00B9B215+1683989]\n\tOrdinal0 [0x00BA6484+1729668]\n\tBaseThreadInitThunk [0x75B26739+25]\n\tRtlGetFullPathName_UEx [0x779B8FD2+1218]\n\tRtlGetFullPathName_UEx [0x779B8F9D+1165]\n",
     "output_type": "error",
     "traceback": [
      "\u001b[1;31m---------------------------------------------------------------------------\u001b[0m",
      "\u001b[1;31mElementNotInteractableException\u001b[0m           Traceback (most recent call last)",
      "Input \u001b[1;32mIn [10]\u001b[0m, in \u001b[0;36m<cell line: 13>\u001b[1;34m()\u001b[0m\n\u001b[0;32m     11\u001b[0m time\u001b[38;5;241m.\u001b[39msleep(\u001b[38;5;241m5\u001b[39m)\n\u001b[0;32m     12\u001b[0m buy2\u001b[38;5;241m=\u001b[39mdriver\u001b[38;5;241m.\u001b[39mfind_element(By\u001b[38;5;241m.\u001b[39mXPATH,\u001b[38;5;124m'\u001b[39m\u001b[38;5;124m/html/body/div[2]/div/div/div[1]/div/header/div[2]/section/div[2]/a\u001b[39m\u001b[38;5;124m'\u001b[39m)\n\u001b[1;32m---> 13\u001b[0m \u001b[43mbuy2\u001b[49m\u001b[38;5;241;43m.\u001b[39;49m\u001b[43mclick\u001b[49m\u001b[43m(\u001b[49m\u001b[43m)\u001b[49m\n",
      "File \u001b[1;32m~\\anaconda3\\lib\\site-packages\\selenium\\webdriver\\remote\\webelement.py:93\u001b[0m, in \u001b[0;36mWebElement.click\u001b[1;34m(self)\u001b[0m\n\u001b[0;32m     91\u001b[0m \u001b[38;5;28;01mdef\u001b[39;00m \u001b[38;5;21mclick\u001b[39m(\u001b[38;5;28mself\u001b[39m) \u001b[38;5;241m-\u001b[39m\u001b[38;5;241m>\u001b[39m \u001b[38;5;28;01mNone\u001b[39;00m:\n\u001b[0;32m     92\u001b[0m     \u001b[38;5;124;03m\"\"\"Clicks the element.\"\"\"\u001b[39;00m\n\u001b[1;32m---> 93\u001b[0m     \u001b[38;5;28;43mself\u001b[39;49m\u001b[38;5;241;43m.\u001b[39;49m\u001b[43m_execute\u001b[49m\u001b[43m(\u001b[49m\u001b[43mCommand\u001b[49m\u001b[38;5;241;43m.\u001b[39;49m\u001b[43mCLICK_ELEMENT\u001b[49m\u001b[43m)\u001b[49m\n",
      "File \u001b[1;32m~\\anaconda3\\lib\\site-packages\\selenium\\webdriver\\remote\\webelement.py:410\u001b[0m, in \u001b[0;36mWebElement._execute\u001b[1;34m(self, command, params)\u001b[0m\n\u001b[0;32m    408\u001b[0m     params \u001b[38;5;241m=\u001b[39m {}\n\u001b[0;32m    409\u001b[0m params[\u001b[38;5;124m\"\u001b[39m\u001b[38;5;124mid\u001b[39m\u001b[38;5;124m\"\u001b[39m] \u001b[38;5;241m=\u001b[39m \u001b[38;5;28mself\u001b[39m\u001b[38;5;241m.\u001b[39m_id\n\u001b[1;32m--> 410\u001b[0m \u001b[38;5;28;01mreturn\u001b[39;00m \u001b[38;5;28;43mself\u001b[39;49m\u001b[38;5;241;43m.\u001b[39;49m\u001b[43m_parent\u001b[49m\u001b[38;5;241;43m.\u001b[39;49m\u001b[43mexecute\u001b[49m\u001b[43m(\u001b[49m\u001b[43mcommand\u001b[49m\u001b[43m,\u001b[49m\u001b[43m \u001b[49m\u001b[43mparams\u001b[49m\u001b[43m)\u001b[49m\n",
      "File \u001b[1;32m~\\anaconda3\\lib\\site-packages\\selenium\\webdriver\\remote\\webdriver.py:444\u001b[0m, in \u001b[0;36mWebDriver.execute\u001b[1;34m(self, driver_command, params)\u001b[0m\n\u001b[0;32m    442\u001b[0m response \u001b[38;5;241m=\u001b[39m \u001b[38;5;28mself\u001b[39m\u001b[38;5;241m.\u001b[39mcommand_executor\u001b[38;5;241m.\u001b[39mexecute(driver_command, params)\n\u001b[0;32m    443\u001b[0m \u001b[38;5;28;01mif\u001b[39;00m response:\n\u001b[1;32m--> 444\u001b[0m     \u001b[38;5;28;43mself\u001b[39;49m\u001b[38;5;241;43m.\u001b[39;49m\u001b[43merror_handler\u001b[49m\u001b[38;5;241;43m.\u001b[39;49m\u001b[43mcheck_response\u001b[49m\u001b[43m(\u001b[49m\u001b[43mresponse\u001b[49m\u001b[43m)\u001b[49m\n\u001b[0;32m    445\u001b[0m     response[\u001b[38;5;124m\"\u001b[39m\u001b[38;5;124mvalue\u001b[39m\u001b[38;5;124m\"\u001b[39m] \u001b[38;5;241m=\u001b[39m \u001b[38;5;28mself\u001b[39m\u001b[38;5;241m.\u001b[39m_unwrap_value(response\u001b[38;5;241m.\u001b[39mget(\u001b[38;5;124m\"\u001b[39m\u001b[38;5;124mvalue\u001b[39m\u001b[38;5;124m\"\u001b[39m, \u001b[38;5;28;01mNone\u001b[39;00m))\n\u001b[0;32m    446\u001b[0m     \u001b[38;5;28;01mreturn\u001b[39;00m response\n",
      "File \u001b[1;32m~\\anaconda3\\lib\\site-packages\\selenium\\webdriver\\remote\\errorhandler.py:249\u001b[0m, in \u001b[0;36mErrorHandler.check_response\u001b[1;34m(self, response)\u001b[0m\n\u001b[0;32m    247\u001b[0m         alert_text \u001b[38;5;241m=\u001b[39m value[\u001b[38;5;124m\"\u001b[39m\u001b[38;5;124malert\u001b[39m\u001b[38;5;124m\"\u001b[39m]\u001b[38;5;241m.\u001b[39mget(\u001b[38;5;124m\"\u001b[39m\u001b[38;5;124mtext\u001b[39m\u001b[38;5;124m\"\u001b[39m)\n\u001b[0;32m    248\u001b[0m     \u001b[38;5;28;01mraise\u001b[39;00m exception_class(message, screen, stacktrace, alert_text)  \u001b[38;5;66;03m# type: ignore[call-arg]  # mypy is not smart enough here\u001b[39;00m\n\u001b[1;32m--> 249\u001b[0m \u001b[38;5;28;01mraise\u001b[39;00m exception_class(message, screen, stacktrace)\n",
      "\u001b[1;31mElementNotInteractableException\u001b[0m: Message: element not interactable\n  (Session info: chrome=107.0.5304.107)\nStacktrace:\nBacktrace:\n\tOrdinal0 [0x00BFACD3+2075859]\n\tOrdinal0 [0x00B8EE61+1633889]\n\tOrdinal0 [0x00A8B680+571008]\n\tOrdinal0 [0x00ABBBD6+768982]\n\tOrdinal0 [0x00AB1C76+728182]\n\tOrdinal0 [0x00AD731C+881436]\n\tOrdinal0 [0x00AB15BF+726463]\n\tOrdinal0 [0x00AD7534+881972]\n\tOrdinal0 [0x00AEB56A+963946]\n\tOrdinal0 [0x00AD7136+880950]\n\tOrdinal0 [0x00AAFEFD+720637]\n\tOrdinal0 [0x00AB0F3F+724799]\n\tGetHandleVerifier [0x00EAEED2+2769538]\n\tGetHandleVerifier [0x00EA0D95+2711877]\n\tGetHandleVerifier [0x00C8A03A+521194]\n\tGetHandleVerifier [0x00C88DA0+516432]\n\tOrdinal0 [0x00B9682C+1665068]\n\tOrdinal0 [0x00B9B128+1683752]\n\tOrdinal0 [0x00B9B215+1683989]\n\tOrdinal0 [0x00BA6484+1729668]\n\tBaseThreadInitThunk [0x75B26739+25]\n\tRtlGetFullPathName_UEx [0x779B8FD2+1218]\n\tRtlGetFullPathName_UEx [0x779B8F9D+1165]\n"
     ]
    }
   ],
   "source": [
    "from selenium import webdriver\n",
    "from selenium.webdriver.common.by import By\n",
    "from selenium.webdriver.common.keys import Keys\n",
    "import time\n",
    "driver = webdriver.Chrome()\n",
    "driver.get('https://www.nike.com/tw/launch/t/dunk-low-gorge-green-total-orange')\n",
    "size=driver.find_element(By.XPATH,'/html/body/div[2]/div/div/div[1]/div/div[1]/div[2]/div/section/div[2]/aside/div/div[2]/div/div[2]/ul/li[8]/button')\n",
    "size.click()\n",
    "buy=driver.find_element(By.XPATH,'/html/body/div[2]/div/div/div[1]/div/div[1]/div[2]/div/section/div[2]/aside/div/div[2]/div/div[2]/div/button')\n",
    "buy.click()\n",
    "time.sleep(5)\n",
    "buy2=driver.find_element(By.XPATH,'/html/body/div[2]/div/div/div[1]/div/header/div[2]/section/div[2]/a')\n",
    "buy2.click()"
   ]
  },
  {
   "cell_type": "code",
   "execution_count": null,
   "id": "c8bb438c-021c-49e0-8a23-9980bbf7aa0d",
   "metadata": {},
   "outputs": [],
   "source": []
  }
 ],
 "metadata": {
  "kernelspec": {
   "display_name": "Python 3 (ipykernel)",
   "language": "python",
   "name": "python3"
  },
  "language_info": {
   "codemirror_mode": {
    "name": "ipython",
    "version": 3
   },
   "file_extension": ".py",
   "mimetype": "text/x-python",
   "name": "python",
   "nbconvert_exporter": "python",
   "pygments_lexer": "ipython3",
   "version": "3.9.12"
  }
 },
 "nbformat": 4,
 "nbformat_minor": 5
}
