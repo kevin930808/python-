{
 "cells": [
  {
   "cell_type": "code",
   "execution_count": 6,
   "id": "8ce6f24f-ffd1-4a31-8ed9-3039d99e6a69",
   "metadata": {},
   "outputs": [],
   "source": [
    "import requests \n",
    "from bs4 import BeautifulSoup\n",
    "url= 'https://shopee.tw/search?keyword=%E5%8F%A3%E7%BD%A9'\n",
    "r = requests.get(url)\n",
    "soup = BeautifulSoup(r.text,\"lxml\")\n",
    "name = soup.select('._10Wbs- _2STCsK _3IqNCf')\n",
    "price = soup.select('span[class=\"_3c5u7X\"]')\n",
    "sell = soup.select('._1uq9fs')\n",
    "for i in name:\n",
    "    print(i.text)"
   ]
  },
  {
   "cell_type": "code",
   "execution_count": null,
   "id": "f1737f76-d70f-4644-b15a-bd8c55f3f199",
   "metadata": {},
   "outputs": [],
   "source": []
  }
 ],
 "metadata": {
  "kernelspec": {
   "display_name": "Python 3 (ipykernel)",
   "language": "python",
   "name": "python3"
  },
  "language_info": {
   "codemirror_mode": {
    "name": "ipython",
    "version": 3
   },
   "file_extension": ".py",
   "mimetype": "text/x-python",
   "name": "python",
   "nbconvert_exporter": "python",
   "pygments_lexer": "ipython3",
   "version": "3.9.7"
  }
 },
 "nbformat": 4,
 "nbformat_minor": 5
}
